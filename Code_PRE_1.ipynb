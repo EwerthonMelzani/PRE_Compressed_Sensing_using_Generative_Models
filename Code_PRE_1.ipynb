{
 "cells": [
  {
   "cell_type": "code",
   "execution_count": 2,
   "id": "8ae45ae8-ae96-49a8-9117-ce8c1ffdbe54",
   "metadata": {},
   "outputs": [],
   "source": [
    "import numpy as np\n",
    "import torch as pt"
   ]
  },
  {
   "cell_type": "code",
   "execution_count": 5,
   "id": "a8c76a3f-bc0d-48c8-914f-44c1bdd33846",
   "metadata": {},
   "outputs": [],
   "source": [
    "!git add ."
   ]
  },
  {
   "cell_type": "code",
   "execution_count": null,
   "id": "138eeac3-d19d-4aef-a017-a04cfbe84075",
   "metadata": {},
   "outputs": [
    {
     "name": "stdout",
     "output_type": "stream",
     "text": [
      "[main 88289ff] First Test\n",
      " 2 files changed, 42 insertions(+)\n",
      " create mode 100644 .ipynb_checkpoints/Code_PRE_1-checkpoint.ipynb\n",
      " create mode 100644 Code_PRE_1.ipynb\n",
      "Username for 'https://github.com': "
     ]
    }
   ],
   "source": [
    "!git commit -m \"First Test\"\n",
    "    \n",
    "!git push"
   ]
  }
 ],
 "metadata": {
  "kernelspec": {
   "display_name": "Python 3 (ipykernel)",
   "language": "python",
   "name": "python3"
  },
  "language_info": {
   "codemirror_mode": {
    "name": "ipython",
    "version": 3
   },
   "file_extension": ".py",
   "mimetype": "text/x-python",
   "name": "python",
   "nbconvert_exporter": "python",
   "pygments_lexer": "ipython3",
   "version": "3.11.7"
  }
 },
 "nbformat": 4,
 "nbformat_minor": 5
}
